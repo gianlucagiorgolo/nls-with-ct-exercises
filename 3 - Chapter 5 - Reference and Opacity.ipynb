{
 "cells": [
  {
   "cell_type": "code",
   "execution_count": null,
   "metadata": {},
   "outputs": [],
   "source": [
    "from mb.cg import *\n",
    "from mb.lambda_calc import *"
   ]
  },
  {
   "cell_type": "code",
   "execution_count": null,
   "metadata": {},
   "outputs": [],
   "source": [
    "np = Atom('np', AtomicType('e'))\n",
    "s = Atom('s', AtomicType('t'))\n",
    "lexicon = Lexicon()\n",
    "lexicon.add_entry('Kim', np, Const('kim'))\n",
    "lexicon.add_entry('Sandy', Monad(np, 'p'), Var('i') ^ (Const('WHO_IS')(Var('i'))(Const('sandy'))))\n",
    "lexicon.add_entry('believe', (np >> s) << Monad(s,'p'), Var('c') ^ (Var('s') ^ (Const('believe')(Var('s'))(Var('c')(Const('kappa')(Var('s')))))))\n",
    "lexicon.add_entry('is', (np >> s) << np, (Const('EQUAL')))"
   ]
  },
  {
   "cell_type": "code",
   "execution_count": null,
   "metadata": {},
   "outputs": [],
   "source": [
    "proofs = prove_sentence('Kim believe Sandy is Sandy', Monad(s, 'p'), lexicon)\n",
    "proofs.show(True)"
   ]
  },
  {
   "cell_type": "code",
   "execution_count": null,
   "metadata": {},
   "outputs": [],
   "source": []
  }
 ],
 "metadata": {
  "kernelspec": {
   "display_name": "Python 3",
   "language": "python",
   "name": "python3"
  },
  "language_info": {
   "codemirror_mode": {
    "name": "ipython",
    "version": 3
   },
   "file_extension": ".py",
   "mimetype": "text/x-python",
   "name": "python",
   "nbconvert_exporter": "python",
   "pygments_lexer": "ipython3",
   "version": "3.8.3"
  }
 },
 "nbformat": 4,
 "nbformat_minor": 2
}
