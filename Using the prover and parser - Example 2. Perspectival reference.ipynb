{
 "cells": [
  {
   "cell_type": "markdown",
   "metadata": {},
   "source": [
    "# Perspectival reference\n",
    "\n",
    "In this notebook we will explore how to construct a lexicon that includes expressions conveying some form of perspectival reference. Let's start right away with a simple example taken from the book: *Kim believes Sandy is Sandy*, where one instance of *Sandy* involves Kim's perspective and the other the speaker's perspective. As usual we start by importing the necessary theorem prover code:"
   ]
  },
  {
   "cell_type": "code",
   "execution_count": null,
   "metadata": {},
   "outputs": [],
   "source": [
    "from mb.cg import *\n",
    "from mb.lambda_calc import *"
   ]
  },
  {
   "cell_type": "markdown",
   "metadata": {},
   "source": [
    "Then we are going to define a simple set of resources. *Kim* and *is* have standard semantic types, and everything else is going to have monadic types: each instance of *Sandy* will have the type $\\lozenge e$; believes will have the type $\\lozenge t \\rightarrow e \\rightarrow t$."
   ]
  },
  {
   "cell_type": "code",
   "execution_count": null,
   "metadata": {},
   "outputs": [],
   "source": [
    "np = Atom('np', AtomicType('e'))\n",
    "s = Atom('s', AtomicType('t'))\n",
    "lexicon = Lexicon()\n",
    "lexicon.add_entry('Kim', np, Const('kim'))\n",
    "lexicon.add_entry('Sandy', Monad(np, 'p'), Var('i') ^ (Const('WHO_IS')(Var('i'))(Const('sandy'))))\n",
    "lexicon.add_entry('believe', (np >> s) << Monad(s,'p'), Var('c') ^ (Var('s') ^ (Const('believe')(Var('s'))(Var('c')(Const('kappa')(Var('s')))))))\n",
    "lexicon.add_entry('is', (np >> s) << np, (Const('EQUAL')))"
   ]
  },
  {
   "cell_type": "markdown",
   "metadata": {},
   "source": [
    "Now we can ask the categorial grammar parser to construct the readings associated with the sentence:"
   ]
  },
  {
   "cell_type": "code",
   "execution_count": null,
   "metadata": {},
   "outputs": [],
   "source": [
    "proofs = prove_sentence('Kim believe Sandy is Sandy', Monad(s, 'p'), lexicon)\n",
    "proofs.show(True)"
   ]
  },
  {
   "cell_type": "markdown",
   "metadata": {},
   "source": [
    "(Notice that the proofs are higher and wider than the box, so you may need to scroll around to see them in their entirety)"
   ]
  }
 ],
 "metadata": {
  "kernelspec": {
   "display_name": "Python 3",
   "language": "python",
   "name": "python3"
  },
  "language_info": {
   "codemirror_mode": {
    "name": "ipython",
    "version": 3
   },
   "file_extension": ".py",
   "mimetype": "text/x-python",
   "name": "python",
   "nbconvert_exporter": "python",
   "pygments_lexer": "ipython3",
   "version": "3.8.3"
  }
 },
 "nbformat": 4,
 "nbformat_minor": 2
}
